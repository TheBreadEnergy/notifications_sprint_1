{
 "cells": [
  {
   "cell_type": "markdown",
   "id": "7be8c851",
   "metadata": {},
   "source": [
    "<h1 align=\"center\"> Исследование: Clickhouse vs Vertica </h1>"
   ]
  },
  {
   "cell_type": "markdown",
   "id": "15ef2657",
   "metadata": {},
   "source": [
    "## 1. Подготовка кластера хранилища для работы"
   ]
  },
  {
   "cell_type": "markdown",
   "id": "ebca3f11",
   "metadata": {},
   "source": [
    "### `Clickhouse`"
   ]
  },
  {
   "cell_type": "code",
   "execution_count": 1,
   "id": "7c0cae85",
   "metadata": {
    "ExecuteTime": {
     "end_time": "2024-03-09T16:52:04.136164Z",
     "start_time": "2024-03-09T16:52:04.039766Z"
    }
   },
   "outputs": [
    {
     "name": "stdout",
     "output_type": "stream",
     "text": [
      "The history saving thread hit an unexpected error (OperationalError('attempt to write a readonly database')).History will not be written to the database.\n"
     ]
    }
   ],
   "source": [
    "from clickhouse_driver import connect\n",
    "\n",
    "clickhouse = connect(dsn='clickhouse://localhost:9000/default?user=default').cursor()\n",
    "\n",
    "clickhouse.execute(\"\"\"\n",
    "    CREATE TABLE IF NOT EXISTS film_view_completed_events (\n",
    "        timestamp TIMESTAMP,\n",
    "        film_id   UUID,\n",
    "        user_id   String,\n",
    "        score UInt32,\n",
    "    ) Engine=MergeTree() ORDER BY timestamp;\n",
    "\"\"\")"
   ]
  },
  {
   "cell_type": "markdown",
   "id": "98098a53",
   "metadata": {},
   "source": [
    "### `Vertica`"
   ]
  },
  {
   "cell_type": "code",
   "execution_count": 2,
   "id": "5be7079b",
   "metadata": {
    "ExecuteTime": {
     "end_time": "2024-03-09T16:52:04.203829Z",
     "start_time": "2024-03-09T16:52:04.136125Z"
    }
   },
   "outputs": [
    {
     "data": {
      "text/plain": "<vertica_python.vertica.cursor.Cursor at 0x111592a80>"
     },
     "execution_count": 2,
     "metadata": {},
     "output_type": "execute_result"
    }
   ],
   "source": [
    "from vertica_python import connect\n",
    "\n",
    "vertica = connect(dsn='vertica://localhost:5433/docker?user=dbadmin&autocommit=true').cursor()\n",
    "\n",
    "vertica.execute(\"\"\"\n",
    "    CREATE TABLE IF NOT EXISTS film_view_completed_events (\n",
    "        timestamp TIMESTAMP,\n",
    "        film_id UUID,\n",
    "        user_id   VARCHAR(100),\n",
    "        score INTEGER\n",
    "    ) ORDER BY timestamp;\n",
    "\"\"\")"
   ]
  },
  {
   "cell_type": "markdown",
   "id": "bdc40b0c",
   "metadata": {},
   "source": [
    "## 2. Скрипт для генерации данных"
   ]
  },
  {
   "cell_type": "code",
   "execution_count": 3,
   "id": "d3bb5189",
   "metadata": {
    "ExecuteTime": {
     "end_time": "2024-03-09T16:52:04.260748Z",
     "start_time": "2024-03-09T16:52:04.203317Z"
    }
   },
   "outputs": [],
   "source": [
    "from faker import Faker\n",
    "\n",
    "fake = Faker()\n",
    "\n",
    "\n",
    "def gendata():\n",
    "    return {\n",
    "        'timestamp': fake.past_datetime(start_date='-1y'),\n",
    "        'film_id': fake.uuid4(),\n",
    "        'user_id': fake.uuid4(),\n",
    "        'score': fake.random_int(max=100),\n",
    "\n",
    "    }"
   ]
  },
  {
   "cell_type": "markdown",
   "id": "130cadab",
   "metadata": {},
   "source": [
    "## 3. Тестирование вставки данных (10 000 000 строк)"
   ]
  },
  {
   "cell_type": "code",
   "execution_count": 4,
   "id": "70a8d9d6",
   "metadata": {
    "ExecuteTime": {
     "end_time": "2024-03-09T16:52:04.263177Z",
     "start_time": "2024-03-09T16:52:04.261155Z"
    }
   },
   "outputs": [],
   "source": [
    "batch_size = 10000\n",
    "multiplier = 1000"
   ]
  },
  {
   "cell_type": "markdown",
   "id": "a77acf3e",
   "metadata": {},
   "source": [
    "### `Clickhouse`"
   ]
  },
  {
   "cell_type": "code",
   "execution_count": 5,
   "id": "24db8214",
   "metadata": {
    "ExecuteTime": {
     "end_time": "2024-03-09T16:55:06.869580Z",
     "start_time": "2024-03-09T16:52:04.318798Z"
    }
   },
   "outputs": [
    {
     "name": "stdout",
     "output_type": "stream",
     "text": [
      "CPU times: user 2min 44s, sys: 455 ms, total: 2min 45s\n",
      "Wall time: 3min 2s\n"
     ]
    }
   ],
   "source": [
    "%%time\n",
    "for _ in range(multiplier):\n",
    "    clickhouse.execute(\n",
    "        'INSERT INTO film_view_completed_events (timestamp, film_id, user_id, score) VALUES',\n",
    "        [gendata() for _ in range(batch_size)],\n",
    "    )"
   ]
  },
  {
   "cell_type": "code",
   "execution_count": 6,
   "id": "f0c2413e",
   "metadata": {
    "ExecuteTime": {
     "end_time": "2024-03-09T16:55:06.881407Z",
     "start_time": "2024-03-09T16:55:06.869684Z"
    }
   },
   "outputs": [
    {
     "data": {
      "text/plain": "(10000000,)"
     },
     "execution_count": 6,
     "metadata": {},
     "output_type": "execute_result"
    }
   ],
   "source": [
    "clickhouse.execute('SELECT COUNT(*) FROM film_view_completed_events')\n",
    "clickhouse.fetchone()"
   ]
  },
  {
   "cell_type": "markdown",
   "id": "ec8865ef",
   "metadata": {},
   "source": [
    "### `Vertica`"
   ]
  },
  {
   "cell_type": "code",
   "execution_count": 7,
   "id": "a86c0706",
   "metadata": {
    "ExecuteTime": {
     "end_time": "2024-03-09T16:59:18.372086Z",
     "start_time": "2024-03-09T16:55:06.904601Z"
    }
   },
   "outputs": [
    {
     "name": "stdout",
     "output_type": "stream",
     "text": [
      "CPU times: user 3min 34s, sys: 1.33 s, total: 3min 35s\n",
      "Wall time: 4min 11s\n"
     ]
    }
   ],
   "source": [
    "%%time\n",
    "for _ in range(multiplier):\n",
    "    vertica.executemany(\n",
    "        'INSERT INTO film_view_completed_events (timestamp, film_id, user_id, score) VALUES (:timestamp, :film_id, :user_id, :score)',\n",
    "        [gendata() for _ in range(batch_size)],\n",
    "    )"
   ]
  },
  {
   "cell_type": "code",
   "execution_count": 8,
   "id": "c9827fc0",
   "metadata": {
    "ExecuteTime": {
     "end_time": "2024-03-09T16:59:18.537114Z",
     "start_time": "2024-03-09T16:59:18.373127Z"
    }
   },
   "outputs": [
    {
     "data": {
      "text/plain": "[10000000]"
     },
     "execution_count": 8,
     "metadata": {},
     "output_type": "execute_result"
    }
   ],
   "source": [
    "vertica.execute('SELECT COUNT(*) FROM film_view_completed_events')\n",
    "vertica.fetchone()"
   ]
  },
  {
   "cell_type": "markdown",
   "id": "ea4ba5dd",
   "metadata": {},
   "source": [
    "## 4. Тестирование чтения данных (за 1 день)"
   ]
  },
  {
   "cell_type": "code",
   "execution_count": 9,
   "id": "b2349864",
   "metadata": {
    "ExecuteTime": {
     "end_time": "2024-03-09T16:59:18.538240Z",
     "start_time": "2024-03-09T16:59:18.536165Z"
    }
   },
   "outputs": [],
   "source": [
    "from datetime import datetime, timedelta\n",
    "\n",
    "yesterday = datetime.now() - timedelta(days=1)"
   ]
  },
  {
   "cell_type": "markdown",
   "id": "6c6b1cc4",
   "metadata": {},
   "source": [
    "### `Clickhouse`"
   ]
  },
  {
   "cell_type": "code",
   "execution_count": 10,
   "id": "c9af93ab",
   "metadata": {
    "ExecuteTime": {
     "end_time": "2024-03-09T16:59:18.639867Z",
     "start_time": "2024-03-09T16:59:18.539140Z"
    }
   },
   "outputs": [
    {
     "name": "stdout",
     "output_type": "stream",
     "text": [
      "CPU times: user 65.3 ms, sys: 5.61 ms, total: 70.9 ms\n",
      "Wall time: 91.9 ms\n"
     ]
    }
   ],
   "source": [
    "%%time\n",
    "clickhouse.execute(\n",
    "    'SELECT * FROM film_view_completed_events WHERE timestamp  > %(datetime)s ORDER BY timestamp',\n",
    "    {'datetime': yesterday},\n",
    ")"
   ]
  },
  {
   "cell_type": "code",
   "execution_count": 11,
   "id": "d52c4e08",
   "metadata": {
    "ExecuteTime": {
     "end_time": "2024-03-09T16:59:18.640567Z",
     "start_time": "2024-03-09T16:59:18.633523Z"
    }
   },
   "outputs": [
    {
     "data": {
      "text/plain": "(datetime.datetime(2024, 3, 8, 19, 59, 21),\n UUID('fd35439f-3508-4217-bdbf-a426395349fd'),\n '726f3447-bd4e-423d-95c9-9e1a29f6ba7b',\n 62)"
     },
     "execution_count": 11,
     "metadata": {},
     "output_type": "execute_result"
    }
   ],
   "source": [
    "clickhouse.fetchone()"
   ]
  },
  {
   "cell_type": "markdown",
   "id": "ea9750e5",
   "metadata": {},
   "source": [
    "### `Vertica`"
   ]
  },
  {
   "cell_type": "code",
   "execution_count": 12,
   "id": "a8bf5fe6",
   "metadata": {
    "ExecuteTime": {
     "end_time": "2024-03-09T16:59:19.884521Z",
     "start_time": "2024-03-09T16:59:18.635912Z"
    }
   },
   "outputs": [
    {
     "name": "stdout",
     "output_type": "stream",
     "text": [
      "CPU times: user 795 µs, sys: 427 µs, total: 1.22 ms\n",
      "Wall time: 1.24 s\n"
     ]
    },
    {
     "data": {
      "text/plain": "<vertica_python.vertica.cursor.Cursor at 0x111592a80>"
     },
     "execution_count": 12,
     "metadata": {},
     "output_type": "execute_result"
    }
   ],
   "source": [
    "%%time\n",
    "vertica.execute(\n",
    "    'SELECT * FROM film_view_completed_events WHERE timestamp  > :datetime ORDER BY timestamp',\n",
    "    {'datetime': yesterday},\n",
    ")"
   ]
  },
  {
   "cell_type": "code",
   "execution_count": 13,
   "id": "6cf6d93e",
   "metadata": {
    "ExecuteTime": {
     "end_time": "2024-03-09T16:59:19.889164Z",
     "start_time": "2024-03-09T16:59:19.885861Z"
    }
   },
   "outputs": [
    {
     "data": {
      "text/plain": "[datetime.datetime(2024, 3, 8, 19, 59, 19, 768863),\n UUID('58cbc238-eff0-4dc2-b7b3-46a57e186c29'),\n 'bc0c8583-5a2c-4f08-bb6b-4991cecc4662',\n 20]"
     },
     "execution_count": 13,
     "metadata": {},
     "output_type": "execute_result"
    }
   ],
   "source": [
    "vertica.fetchone()"
   ]
  },
  {
   "cell_type": "markdown",
   "source": [
    "## 5. Тестирование агрегации данных (фреймов)"
   ],
   "metadata": {
    "collapsed": false
   },
   "id": "3b763d6cf80bee82"
  },
  {
   "cell_type": "markdown",
   "source": [
    "### `Clickhouse`"
   ],
   "metadata": {
    "collapsed": false
   },
   "id": "6f2514f191d9ef47"
  },
  {
   "cell_type": "code",
   "outputs": [
    {
     "name": "stdout",
     "output_type": "stream",
     "text": [
      "CPU times: user 2.41 ms, sys: 440 µs, total: 2.85 ms\n",
      "Wall time: 33.8 ms\n"
     ]
    }
   ],
   "source": [
    "%%time\n",
    "clickhouse.execute('SELECT MAX(score), MIN(score), SUM(score), AVG(score) FROM film_view_completed_events')"
   ],
   "metadata": {
    "collapsed": false,
    "ExecuteTime": {
     "end_time": "2024-03-09T16:59:19.931492Z",
     "start_time": "2024-03-09T16:59:19.890781Z"
    }
   },
   "id": "e266f22af2be0ae1",
   "execution_count": 14
  },
  {
   "cell_type": "code",
   "outputs": [
    {
     "data": {
      "text/plain": "(100, 0, 499912093, 49.9912093)"
     },
     "execution_count": 15,
     "metadata": {},
     "output_type": "execute_result"
    }
   ],
   "source": [
    "clickhouse.fetchone()"
   ],
   "metadata": {
    "collapsed": false,
    "ExecuteTime": {
     "end_time": "2024-03-09T16:59:19.931978Z",
     "start_time": "2024-03-09T16:59:19.926124Z"
    }
   },
   "id": "d968d1af7dd8da35",
   "execution_count": 15
  },
  {
   "cell_type": "markdown",
   "source": [
    "### `Vertica`"
   ],
   "metadata": {
    "collapsed": false
   },
   "id": "101ff9b1d7b2902e"
  },
  {
   "cell_type": "code",
   "outputs": [
    {
     "name": "stdout",
     "output_type": "stream",
     "text": [
      "CPU times: user 55.1 ms, sys: 1.39 ms, total: 56.5 ms\n",
      "Wall time: 230 ms\n"
     ]
    },
    {
     "data": {
      "text/plain": "<vertica_python.vertica.cursor.Cursor at 0x111592a80>"
     },
     "execution_count": 16,
     "metadata": {},
     "output_type": "execute_result"
    }
   ],
   "source": [
    "%%time\n",
    "vertica.execute('SELECT MAX(score), MIN(score), SUM(score), AVG(score) FROM film_view_completed_events')"
   ],
   "metadata": {
    "collapsed": false,
    "ExecuteTime": {
     "end_time": "2024-03-09T16:59:20.161846Z",
     "start_time": "2024-03-09T16:59:19.929254Z"
    }
   },
   "id": "bcfbc436b97f3726",
   "execution_count": 16
  },
  {
   "cell_type": "code",
   "outputs": [
    {
     "data": {
      "text/plain": "[100, 0, 499739740, 49.973974]"
     },
     "execution_count": 17,
     "metadata": {},
     "output_type": "execute_result"
    }
   ],
   "source": [
    "vertica.fetchone()"
   ],
   "metadata": {
    "collapsed": false,
    "ExecuteTime": {
     "end_time": "2024-03-09T16:59:20.164539Z",
     "start_time": "2024-03-09T16:59:20.162838Z"
    }
   },
   "id": "16874e5a39a9c180",
   "execution_count": 17
  },
  {
   "cell_type": "markdown",
   "source": [
    "### **Вывод: ClickHouse быстрее справляется с аналитическими запросами, чем Vertica.**"
   ],
   "metadata": {},
   "id": "e449248d"
  }
 ],
 "metadata": {
  "kernelspec": {
   "display_name": "fastapi-kafka",
   "language": "python",
   "name": "python3"
  },
  "language_info": {
   "codemirror_mode": {
    "name": "ipython",
    "version": 3
   },
   "file_extension": ".py",
   "mimetype": "text/x-python",
   "name": "python",
   "nbconvert_exporter": "python",
   "pygments_lexer": "ipython3",
   "version": "3.10.4"
  },
  "vscode": {
   "interpreter": {
    "hash": "3c1b1b4c6f3611560a97eab192873b66e24467f02743afdd8ce325bf8baee0b1"
   }
  }
 },
 "nbformat": 4,
 "nbformat_minor": 5
}
