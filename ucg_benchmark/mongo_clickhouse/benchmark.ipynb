{
 "cells": [
  {
   "metadata": {},
   "cell_type": "markdown",
   "source": "<h1 align=\"center\"> Исследование: Mongo vs Clickhouse </h1>",
   "id": "a1bad28a6588d258"
  },
  {
   "cell_type": "code",
   "id": "initial_id",
   "metadata": {
    "collapsed": true,
    "ExecuteTime": {
     "end_time": "2024-03-30T15:13:06.776Z",
     "start_time": "2024-03-30T15:13:06.696166Z"
    }
   },
   "source": [
    "from faker import Faker\n",
    "import uuid\n",
    "\n",
    "fake = Faker()"
   ],
   "outputs": [],
   "execution_count": 1
  },
  {
   "metadata": {
    "ExecuteTime": {
     "end_time": "2024-03-30T15:13:06.778339Z",
     "start_time": "2024-03-30T15:13:06.776974Z"
    }
   },
   "cell_type": "code",
   "source": [
    "# Количество записей и размер пачки\n",
    "total_records = 1_000_000\n",
    "batch_size = 100_000"
   ],
   "id": "6a5059e2148c556e",
   "outputs": [],
   "execution_count": 2
  },
  {
   "metadata": {
    "ExecuteTime": {
     "end_time": "2024-03-30T15:13:06.807166Z",
     "start_time": "2024-03-30T15:13:06.778807Z"
    }
   },
   "cell_type": "code",
   "source": [
    "# Предварительно сгенерированные UUID для пользователей и фильмов\n",
    "user_ids = [str(uuid.uuid4()) for _ in range(5_000)]\n",
    "movie_ids = [str(uuid.uuid4()) for _ in range(10_000)]"
   ],
   "id": "4f298c9e09a6605e",
   "outputs": [],
   "execution_count": 3
  },
  {
   "metadata": {},
   "cell_type": "markdown",
   "source": "## Вставка в Mongo",
   "id": "2e3bf94955323c2d"
  },
  {
   "metadata": {
    "ExecuteTime": {
     "end_time": "2024-03-30T15:13:06.866763Z",
     "start_time": "2024-03-30T15:13:06.808350Z"
    }
   },
   "cell_type": "code",
   "source": [
    "from pymongo import MongoClient\n",
    "\n",
    "client = MongoClient('mongodb://localhost:27017/')\n",
    "db = client['online_cinema']\n",
    "\n",
    "\n",
    "# Функция для вставки лайков\n",
    "def insert_likes():\n",
    "    for _ in range(total_records // batch_size):\n",
    "        batch_data = [{\n",
    "            'movie_id': fake.random_element(movie_ids),\n",
    "            'user_id': fake.random_element(user_ids),\n",
    "            'rating': fake.random_int(min=0, max=10)\n",
    "        } for _ in range(batch_size)]\n",
    "        db.likes.insert_many(batch_data)\n",
    "    print(\"Лайки и дизлайки вставлены.\")\n",
    "\n",
    "\n",
    "# Функция для вставки рецензий\n",
    "def insert_reviews():\n",
    "    for _ in range(total_records // batch_size):\n",
    "        batch_data = [{\n",
    "            'movie_id': fake.random_element(movie_ids),\n",
    "            'user_id': fake.random_element(user_ids),\n",
    "            'text': fake.text(max_nb_chars=200),\n",
    "            'date_published': fake.date_time_between(start_date='-2y', end_date='now'),\n",
    "            'likes': fake.random_int(min=0, max=1000),\n",
    "            'dislikes': fake.random_int(min=0, max=1000),\n",
    "            'user_rating': fake.random_int(min=0, max=10)\n",
    "        } for _ in range(batch_size)]\n",
    "        db.reviews.insert_many(batch_data)\n",
    "    print(\"Рецензии вставлены.\")\n",
    "\n",
    "\n",
    "# Функция для вставки закладок\n",
    "def insert_bookmarks():\n",
    "    for _ in range(total_records // batch_size):\n",
    "        batch_data = [{\n",
    "            'user_id': fake.random_element(user_ids),\n",
    "            'movie_id': fake.random_element(movie_ids),\n",
    "            'added_date': fake.date_time_this_year(before_now=True, after_now=False)\n",
    "        } for _ in range(batch_size)]\n",
    "        db.bookmarks.insert_many(batch_data)\n",
    "    print(\"Закладки вставлены.\")"
   ],
   "id": "42620f4a015bf9f0",
   "outputs": [],
   "execution_count": 4
  },
  {
   "metadata": {
    "ExecuteTime": {
     "end_time": "2024-03-30T15:16:13.047103Z",
     "start_time": "2024-03-30T15:13:06.867338Z"
    }
   },
   "cell_type": "code",
   "source": [
    "%%time\n",
    "insert_likes()\n",
    "insert_reviews()\n",
    "insert_bookmarks()"
   ],
   "id": "9de192a056a50d9c",
   "outputs": [
    {
     "name": "stdout",
     "output_type": "stream",
     "text": [
      "Лайки и дизлайки вставлены.\n",
      "Рецензии вставлены.\n",
      "Закладки вставлены.\n",
      "CPU times: user 2min 34s, sys: 16 s, total: 2min 50s\n",
      "Wall time: 3min 6s\n"
     ]
    }
   ],
   "execution_count": 5
  },
  {
   "metadata": {},
   "cell_type": "markdown",
   "source": "## Тестирование Mongo",
   "id": "bbf18603ee35f8df"
  },
  {
   "metadata": {
    "ExecuteTime": {
     "end_time": "2024-03-30T15:16:13.558605Z",
     "start_time": "2024-03-30T15:16:13.048067Z"
    }
   },
   "cell_type": "code",
   "source": [
    "%%time\n",
    "movie_id_example = fake.random_element(movie_ids)\n",
    "likes_count = db.likes.count_documents({'movie_id': movie_id_example, 'rating': {'$gt': 5}})\n",
    "dislikes_count = db.likes.count_documents({'movie_id': movie_id_example, 'rating': {'$lte': 5}})\n",
    "\n",
    "print(f\"Количество лайков у фильма {movie_id_example}: {likes_count}\")\n",
    "print(f\"Количество дизлайков у фильма {movie_id_example}: {dislikes_count}\")"
   ],
   "id": "bf19819c2ca2f51f",
   "outputs": [
    {
     "name": "stdout",
     "output_type": "stream",
     "text": [
      "Количество лайков у фильма f7437cde-99e4-4b46-9ead-863616918069: 46\n",
      "Количество дизлайков у фильма f7437cde-99e4-4b46-9ead-863616918069: 52\n",
      "CPU times: user 1.35 ms, sys: 945 µs, total: 2.3 ms\n",
      "Wall time: 507 ms\n"
     ]
    }
   ],
   "execution_count": 6
  },
  {
   "metadata": {
    "ExecuteTime": {
     "end_time": "2024-03-30T15:16:13.724718Z",
     "start_time": "2024-03-30T15:16:13.560117Z"
    }
   },
   "cell_type": "code",
   "source": [
    "%%time\n",
    "movie_id_example = fake.random_element(movie_ids)\n",
    "avg_rating = db.likes.aggregate([\n",
    "    {'$group': {\n",
    "        '_id': '$movie_id',\n",
    "        'averageRating': {'$avg': '$rating'}\n",
    "    }},\n",
    "    {'$match': {'_id': movie_id_example}}\n",
    "])\n",
    "\n",
    "for doc in avg_rating:\n",
    "    print(f\"Средняя оценка фильма {movie_id_example}: {doc['averageRating']}\")"
   ],
   "id": "3e114085856f3f53",
   "outputs": [
    {
     "name": "stdout",
     "output_type": "stream",
     "text": [
      "Средняя оценка фильма 93af0be7-5b49-48d8-873d-3a77c0aeda56: 4.681818181818182\n",
      "CPU times: user 1.57 ms, sys: 1.54 ms, total: 3.11 ms\n",
      "Wall time: 161 ms\n"
     ]
    }
   ],
   "execution_count": 7
  },
  {
   "metadata": {
    "ExecuteTime": {
     "end_time": "2024-03-30T15:16:13.950015Z",
     "start_time": "2024-03-30T15:16:13.725435Z"
    }
   },
   "cell_type": "code",
   "source": [
    "%%time\n",
    "user_id_example = fake.random_element(user_ids)\n",
    "\n",
    "liked_movies = db.likes.find({\n",
    "    'user_id': user_id_example,\n",
    "    'rating': {'$gte': 6}  # Оценка 6 и выше считается лайком\n",
    "}).sort('rating', -1)\n",
    "\n",
    "print(f\"Фильмы, понравившиеся пользователю {user_id_example}, отсортированные по убыванию рейтинга:\")\n",
    "for movie in liked_movies:\n",
    "    print(f\"Movie ID: {movie['movie_id']} - Rating: {movie['rating']}\")"
   ],
   "id": "39a38d59d7b4d844",
   "outputs": [
    {
     "name": "stdout",
     "output_type": "stream",
     "text": [
      "Фильмы, понравившиеся пользователю b598b803-1b59-4ea6-961d-4be4137eff69, отсортированные по убыванию рейтинга:\n",
      "Movie ID: 9d55e0b4-b8ca-4c4b-924b-c20c5b6b1254 - Rating: 10\n",
      "Movie ID: b66958e7-c2c3-48d1-9e85-d4a62d29c31b - Rating: 10\n",
      "Movie ID: 6c1bc485-4904-4420-92a1-c8ce7042fb88 - Rating: 10\n",
      "Movie ID: 26cd2364-abe3-40f2-8217-5b5eae00ad22 - Rating: 10\n",
      "Movie ID: 8838f0c4-394e-4a6b-bd47-21a14004f598 - Rating: 10\n",
      "Movie ID: 32a0ef35-cdd9-4c29-8c94-b8d773bf739b - Rating: 10\n",
      "Movie ID: 9b32130e-32ba-4de1-b438-cf9ad8409347 - Rating: 10\n",
      "Movie ID: 1939827d-94ca-45fe-9726-e213271180ea - Rating: 10\n",
      "Movie ID: ce5452ca-97f0-48e8-954a-db69866c33bf - Rating: 10\n",
      "Movie ID: 6dc90bb9-98b3-48d9-8846-0644df46da68 - Rating: 10\n",
      "Movie ID: 7e8c39a1-83b1-4b69-abff-877a2ea928f0 - Rating: 10\n",
      "Movie ID: 98ba4715-12cb-4a31-bce8-f6256e463ff7 - Rating: 10\n",
      "Movie ID: 8891384a-cbc9-4a02-a9b6-2f5bc8d916e4 - Rating: 10\n",
      "Movie ID: bd5b7cc0-c94b-43ec-8035-dbd727ce5317 - Rating: 10\n",
      "Movie ID: 83f9a755-fb08-4375-8f03-0f1e5953204e - Rating: 10\n",
      "Movie ID: 7832a1bc-147d-4b62-9d72-6b5039999811 - Rating: 10\n",
      "Movie ID: 79188ae4-f4be-48e3-90a0-7851b8c7618c - Rating: 10\n",
      "Movie ID: b1285dab-6bf9-49ee-ac56-db54ab3a3d5c - Rating: 10\n",
      "Movie ID: b0a01c87-6a3b-4b09-a03d-4557d019198f - Rating: 10\n",
      "Movie ID: a0c60844-b2ca-43b6-b820-7db17988535f - Rating: 9\n",
      "Movie ID: 4af4039b-4f4d-4721-a01c-35c0f4012454 - Rating: 9\n",
      "Movie ID: 8004a392-b08d-4dcf-94ce-d9e37a8ef7a4 - Rating: 9\n",
      "Movie ID: 3a2d85bb-cfd1-41b3-b590-7282a722fc43 - Rating: 9\n",
      "Movie ID: 82bc118b-87cd-4055-a9ce-00a17c70500f - Rating: 9\n",
      "Movie ID: f726469c-2bbb-4e10-9644-fdab6e4bf6b1 - Rating: 9\n",
      "Movie ID: 7e26eb76-e20c-498b-a01c-d8efa899d038 - Rating: 9\n",
      "Movie ID: 679efb84-a57d-4820-bc23-04a465bb4112 - Rating: 9\n",
      "Movie ID: e52138b4-f01e-46da-b6b7-cdbe883b737a - Rating: 9\n",
      "Movie ID: 9b249bbf-441b-4655-b552-7c1a62244a1a - Rating: 9\n",
      "Movie ID: 671cebe4-ba27-4be2-98bc-1b4a21a71e2f - Rating: 9\n",
      "Movie ID: 16d89434-bc21-44c6-a070-b8555e2016d2 - Rating: 9\n",
      "Movie ID: e697b810-5ddd-4463-a2a5-2962d3c088c7 - Rating: 9\n",
      "Movie ID: 9e57bf37-2436-4d13-a5b4-389c4792104d - Rating: 9\n",
      "Movie ID: f6cdd0eb-e801-4e38-b52d-f35a4154c13b - Rating: 9\n",
      "Movie ID: 82d91223-677d-4852-a30d-59920157e24c - Rating: 8\n",
      "Movie ID: b0e14a06-b5f0-428a-93d4-c82de9923912 - Rating: 8\n",
      "Movie ID: be5cea28-5d78-4778-b477-59c1f6852aab - Rating: 8\n",
      "Movie ID: 5d1542d7-d32d-4b0a-9a97-ef8edf51c19b - Rating: 8\n",
      "Movie ID: 427eeb5a-3288-4ff9-b1f7-882b15b944cf - Rating: 8\n",
      "Movie ID: f1c1b224-01f3-48aa-bd83-ff2a16263b9d - Rating: 8\n",
      "Movie ID: 31a2eb93-83f7-484e-8d98-af5fe7c16194 - Rating: 8\n",
      "Movie ID: 25d6badb-e0ab-42cb-89a9-a31a0b046fbb - Rating: 8\n",
      "Movie ID: d1259c52-9e21-467c-952f-c569cc219a98 - Rating: 8\n",
      "Movie ID: 0c1cccf4-2472-436d-b765-d1ea5b42b2fa - Rating: 8\n",
      "Movie ID: 826b5fb8-047a-4056-a4a9-7ddc6770da50 - Rating: 8\n",
      "Movie ID: 8bd4448d-82c4-4423-a555-0d295ea7cdce - Rating: 8\n",
      "Movie ID: 0d9ba910-af88-461b-87af-c1ba45ad25fe - Rating: 8\n",
      "Movie ID: f9812a88-70f7-41e5-bf92-24bb0e2ac9e9 - Rating: 8\n",
      "Movie ID: d41df189-48c1-4d91-86d2-2b1cf3c796e3 - Rating: 8\n",
      "Movie ID: 811c92bd-b70e-4131-9b6f-9cfa179a6724 - Rating: 8\n",
      "Movie ID: bd0d7829-ab73-4c0d-b6b3-cc95da48af17 - Rating: 8\n",
      "Movie ID: 1d2ce25e-40c0-4774-82c3-27e59833f64d - Rating: 8\n",
      "Movie ID: efa389a8-1b82-4762-ba47-a0b0522c8eb0 - Rating: 8\n",
      "Movie ID: 4342957b-d897-4660-af4c-68ac190592ff - Rating: 8\n",
      "Movie ID: ebb7fb38-5b80-431c-8080-73ef34ddc770 - Rating: 8\n",
      "Movie ID: 6482b533-b1db-44bb-9ef5-70bb777eaa6d - Rating: 8\n",
      "Movie ID: b78410c3-fd12-4ea8-a193-74225c25cba6 - Rating: 8\n",
      "Movie ID: e323fcba-1c77-4bb7-9abc-6b738c66ee08 - Rating: 8\n",
      "Movie ID: fd4ecf94-ef86-4975-82c1-5d0d8b13abd4 - Rating: 7\n",
      "Movie ID: 93a6ea4f-5838-4b8b-aae9-6c62eddb4a81 - Rating: 7\n",
      "Movie ID: b59d1b70-f29f-4840-93ba-af5e65f128ad - Rating: 7\n",
      "Movie ID: a6963d43-4d44-4443-bb1e-da251e31192c - Rating: 7\n",
      "Movie ID: 4d6bda62-90d1-4c73-8d26-1235ed1f4855 - Rating: 7\n",
      "Movie ID: e221a7f6-d3da-494b-b5ce-46fce7ecb614 - Rating: 7\n",
      "Movie ID: 5efd7d7b-e1db-4396-9179-d3989741f54a - Rating: 7\n",
      "Movie ID: b50892f8-49a7-48e3-a5fa-a144c8da4c7d - Rating: 7\n",
      "Movie ID: 1641651d-63ea-4089-8295-374c9b845c99 - Rating: 7\n",
      "Movie ID: f072e8fd-aa5a-4942-8447-9bfd87396298 - Rating: 7\n",
      "Movie ID: b8580897-31c9-474e-b483-054206a654d2 - Rating: 7\n",
      "Movie ID: b93875ec-8e22-4bbc-8aa7-1382bb5b89b1 - Rating: 7\n",
      "Movie ID: 3af21623-5da0-469a-96a2-820033036f40 - Rating: 7\n",
      "Movie ID: 06247e0e-9c91-424d-882d-171a0738e277 - Rating: 7\n",
      "Movie ID: 8378fb20-a980-4ff0-9866-a400a0f9125d - Rating: 7\n",
      "Movie ID: 42e13640-345a-4ba3-9613-e3933c5f0506 - Rating: 7\n",
      "Movie ID: 7abc3a32-4613-410f-b155-4364ac5e996f - Rating: 7\n",
      "Movie ID: 2b905273-536a-4c63-aa78-8bf830d39270 - Rating: 7\n",
      "Movie ID: 11f992c2-a926-4230-8f8f-8fba67081c15 - Rating: 7\n",
      "Movie ID: 4fc0a17c-22a2-48ba-ab58-154b8045fa81 - Rating: 7\n",
      "Movie ID: bd8f6516-3a5d-4bb5-8032-2d93fb33ab93 - Rating: 7\n",
      "Movie ID: e1193425-f9b2-4752-8e5b-19ec2c5a539a - Rating: 7\n",
      "Movie ID: 19430708-86fc-4c53-8aa6-1268d813f519 - Rating: 7\n",
      "Movie ID: 171f5dc4-02a5-4777-99e8-12c81c6007e7 - Rating: 7\n",
      "Movie ID: e683ebab-4a73-4803-af0e-849089e0db1e - Rating: 7\n",
      "Movie ID: d553f1e4-4fff-4def-bd54-29251b2fe7aa - Rating: 7\n",
      "Movie ID: 3bb46292-c90a-4d37-9501-4355a715469b - Rating: 6\n",
      "Movie ID: f19d08b8-e09d-4a61-a5c2-c6122ca1eb31 - Rating: 6\n",
      "Movie ID: 305f131a-55b4-4175-88d4-a772c6218d5e - Rating: 6\n",
      "Movie ID: e0592378-ea45-4c4c-a8a3-b8724fab158b - Rating: 6\n",
      "Movie ID: 0bc0ddac-2df4-422d-80fe-f3437246c58e - Rating: 6\n",
      "Movie ID: 9ec4abeb-6b6f-4a25-a901-84a2613576b9 - Rating: 6\n",
      "Movie ID: a48cb9af-4cd7-497a-a3c6-9c1027340c06 - Rating: 6\n",
      "Movie ID: bd7b5f11-8872-4ac8-97fa-0761b1943f76 - Rating: 6\n",
      "Movie ID: 514ecd8b-38a3-4523-80fb-d70f0fe7f412 - Rating: 6\n",
      "Movie ID: 4b966019-c90d-42e6-9b30-bb10f15cc13d - Rating: 6\n",
      "Movie ID: d70a50f8-067a-4e84-b0d4-ec2d0414aa11 - Rating: 6\n",
      "Movie ID: 6c60efed-6a99-42d2-a33b-ac608427d8ee - Rating: 6\n",
      "Movie ID: fcd22c09-2636-4d4a-b020-53bd1165112e - Rating: 6\n",
      "Movie ID: 8951cde4-68d5-4bd0-9b9e-1f2a722092b6 - Rating: 6\n",
      "Movie ID: 3255f3e7-6c77-4e84-acfb-317b9218cb4e - Rating: 6\n",
      "Movie ID: 5a67aa65-bc97-4bd8-9f1b-86a1fe90b697 - Rating: 6\n",
      "Movie ID: 8891b2d2-4756-4df4-8ae5-9408903a9fbd - Rating: 6\n",
      "CPU times: user 2.45 ms, sys: 1.27 ms, total: 3.72 ms\n",
      "Wall time: 222 ms\n"
     ]
    }
   ],
   "execution_count": 8
  },
  {
   "metadata": {
    "ExecuteTime": {
     "end_time": "2024-03-30T15:16:14.108630Z",
     "start_time": "2024-03-30T15:16:13.951180Z"
    }
   },
   "cell_type": "code",
   "source": [
    "from clickhouse_driver import connect\n",
    "\n",
    "clickhouse = connect(dsn='clickhouse://localhost:9000/default?user=default').cursor()\n",
    "\n",
    "# Создание таблиц\n",
    "clickhouse.execute('''\n",
    "CREATE TABLE IF NOT EXISTS likes (\n",
    "    movie_id UUID,\n",
    "    user_id UUID,\n",
    "    rating Int8\n",
    ") ENGINE = MergeTree()\n",
    "ORDER BY (movie_id, user_id);\n",
    "''')\n",
    "\n",
    "clickhouse.execute('''\n",
    "CREATE TABLE IF NOT EXISTS reviews (\n",
    "    movie_id UUID,\n",
    "    user_id UUID,\n",
    "    text String,\n",
    "    date_published DateTime,\n",
    "    likes Int32,\n",
    "    dislikes Int32,\n",
    "    user_rating Int8\n",
    ") ENGINE = MergeTree()\n",
    "ORDER BY (movie_id, user_id);\n",
    "''')\n",
    "\n",
    "clickhouse.execute('''\n",
    "CREATE TABLE IF NOT EXISTS bookmarks (\n",
    "    user_id UUID,\n",
    "    movie_id UUID,\n",
    "    added_date DateTime\n",
    ") ENGINE = MergeTree()\n",
    "ORDER BY (user_id, movie_id);\n",
    "''')"
   ],
   "id": "e91a783d052c0c53",
   "outputs": [],
   "execution_count": 9
  },
  {
   "metadata": {},
   "cell_type": "markdown",
   "source": "## Вставка в ClickHouse",
   "id": "49ca17d7b820fffc"
  },
  {
   "metadata": {
    "ExecuteTime": {
     "end_time": "2024-03-30T15:16:14.116691Z",
     "start_time": "2024-03-30T15:16:14.112356Z"
    }
   },
   "cell_type": "code",
   "source": [
    "# Функция для вставки лайков\n",
    "def insert_likes():\n",
    "    for _ in range(total_records // batch_size):\n",
    "        batch_data = [(\n",
    "            fake.random_element(user_ids),\n",
    "            fake.random_element(movie_ids),\n",
    "            fake.random_int(min=0, max=10)\n",
    "        ) for _ in range(batch_size)]\n",
    "        clickhouse.executemany('INSERT INTO likes (user_id, movie_id, rating) VALUES', batch_data)\n",
    "    print(\"Лайки и дизлайки вставлены.\")\n",
    "\n",
    "\n",
    "# Функция для вставки рецензий\n",
    "def insert_reviews():\n",
    "    for _ in range(total_records // batch_size):\n",
    "        batch_data = [(\n",
    "            fake.random_element(user_ids),\n",
    "            fake.random_element(movie_ids),\n",
    "            fake.text(max_nb_chars=200),\n",
    "            fake.date_time_between(start_date='-2y', end_date='now'),\n",
    "            fake.random_int(min=0, max=1000),\n",
    "            fake.random_int(min=0, max=1000),\n",
    "            fake.random_int(min=0, max=10)\n",
    "        ) for _ in range(batch_size)]\n",
    "        clickhouse.executemany(\n",
    "            'INSERT INTO reviews (user_id, movie_id, text, date_published, likes, dislikes, user_rating) VALUES',\n",
    "            batch_data)\n",
    "    print(\"Рецензии вставлены.\")\n",
    "\n",
    "\n",
    "# Функция для вставки закладок\n",
    "def insert_bookmarks():\n",
    "    for _ in range(total_records // batch_size):\n",
    "        batch_data = [(\n",
    "            fake.random_element(user_ids),\n",
    "            fake.random_element(movie_ids),\n",
    "            fake.date_time_this_year(before_now=True, after_now=False)\n",
    "        ) for _ in range(batch_size)]\n",
    "        clickhouse.executemany('INSERT INTO bookmarks (user_id, movie_id, added_date) VALUES', batch_data)\n",
    "    print(\"Закладки вставлены.\")"
   ],
   "id": "9bdf48bf47966717",
   "outputs": [],
   "execution_count": 10
  },
  {
   "metadata": {
    "ExecuteTime": {
     "end_time": "2024-03-30T15:19:08.074516Z",
     "start_time": "2024-03-30T15:16:14.118088Z"
    }
   },
   "cell_type": "code",
   "source": [
    "%%time\n",
    "insert_likes()\n",
    "insert_reviews()\n",
    "insert_bookmarks()"
   ],
   "id": "c9fede8d122d2d0b",
   "outputs": [
    {
     "name": "stdout",
     "output_type": "stream",
     "text": [
      "Лайки и дизлайки вставлены.\n",
      "Рецензии вставлены.\n",
      "Закладки вставлены.\n",
      "CPU times: user 2min 35s, sys: 15.3 s, total: 2min 50s\n",
      "Wall time: 2min 53s\n"
     ]
    }
   ],
   "execution_count": 11
  },
  {
   "metadata": {},
   "cell_type": "markdown",
   "source": "## Тестирование ClickHouse",
   "id": "9953c6af4bbf7999"
  },
  {
   "metadata": {
    "ExecuteTime": {
     "end_time": "2024-03-30T15:19:08.125553Z",
     "start_time": "2024-03-30T15:19:08.075545Z"
    }
   },
   "cell_type": "code",
   "source": [
    "%%time\n",
    "movie_id_example = fake.random_element(movie_ids)\n",
    "\n",
    "# Запрос на подсчёт количества лайков и дизлайков для конкретного фильма\n",
    "query = f\"\"\"\n",
    "SELECT \n",
    "    countIf(rating > 5) as likes, \n",
    "    countIf(rating <= 5) as dislikes \n",
    "FROM likes \n",
    "WHERE movie_id = '{movie_id_example}'\n",
    "\"\"\"\n",
    "\n",
    "clickhouse.execute(query)\n",
    "\n",
    "result = clickhouse.fetchone()\n",
    "likes_count, dislikes_count = result\n",
    "\n",
    "print(f\"Количество лайков у фильма {movie_id_example}: {likes_count}\")\n",
    "print(f\"Количество дизлайков у фильма {movie_id_example}: {dislikes_count}\")"
   ],
   "id": "8dd5940e4fac30eb",
   "outputs": [
    {
     "name": "stdout",
     "output_type": "stream",
     "text": [
      "Количество лайков у фильма c949a2ca-d00c-4da6-8352-a7edb797d6f3: 38\n",
      "Количество дизлайков у фильма c949a2ca-d00c-4da6-8352-a7edb797d6f3: 58\n",
      "CPU times: user 1.05 ms, sys: 1.02 ms, total: 2.07 ms\n",
      "Wall time: 47.5 ms\n"
     ]
    }
   ],
   "execution_count": 12
  },
  {
   "metadata": {
    "ExecuteTime": {
     "end_time": "2024-03-30T15:19:08.135534Z",
     "start_time": "2024-03-30T15:19:08.126199Z"
    }
   },
   "cell_type": "code",
   "source": [
    "%%time\n",
    "movie_id_example = fake.random_element(movie_ids)\n",
    "\n",
    "# Запрос на получение средней оценки для конкретного фильма\n",
    "query_avg_rating = f\"\"\"\n",
    "SELECT AVG(rating) AS averageRating\n",
    "FROM likes\n",
    "WHERE movie_id = '{movie_id_example}'\n",
    "\"\"\"\n",
    "\n",
    "clickhouse.execute(query_avg_rating)\n",
    "\n",
    "avg_rating = clickhouse.fetchone()\n",
    "print(f\"Средняя оценка фильма {movie_id_example}: {avg_rating[0]}\")"
   ],
   "id": "7d56900ab023ce0d",
   "outputs": [
    {
     "name": "stdout",
     "output_type": "stream",
     "text": [
      "Средняя оценка фильма e7f127a4-b538-41f9-bfb6-f496a9edd565: 4.602150537634409\n",
      "CPU times: user 1.06 ms, sys: 858 µs, total: 1.92 ms\n",
      "Wall time: 7.24 ms\n"
     ]
    }
   ],
   "execution_count": 13
  },
  {
   "metadata": {
    "ExecuteTime": {
     "end_time": "2024-03-30T15:19:08.162736Z",
     "start_time": "2024-03-30T15:19:08.136294Z"
    }
   },
   "cell_type": "code",
   "source": [
    "%%time\n",
    "user_id_example = fake.random_element(user_ids)\n",
    "\n",
    "# Запрос на получение списка фильмов, понравившихся пользователю, с рейтингом выше 5\n",
    "query_liked_movies = f\"\"\"\n",
    "SELECT movie_id, rating\n",
    "FROM likes\n",
    "WHERE user_id = '{user_id_example}' AND rating >= 6 \n",
    "ORDER BY rating DESC\n",
    "\"\"\"\n",
    "\n",
    "clickhouse.execute(query_liked_movies)\n",
    "\n",
    "liked_movies = clickhouse.fetchall()\n",
    "\n",
    "print(f\"Фильмы, понравившиеся пользователю {user_id_example}, отсортированные по убыванию рейтинга:\")\n",
    "for movie in liked_movies:\n",
    "    print(f\"Movie ID: {movie[0]} - Rating: {movie[1]}\")"
   ],
   "id": "cab70e9167fb8c1a",
   "outputs": [
    {
     "name": "stdout",
     "output_type": "stream",
     "text": [
      "Фильмы, понравившиеся пользователю 6e7cd7ca-5351-4420-bb96-2555d391ac13, отсортированные по убыванию рейтинга:\n",
      "Movie ID: 25182b67-1eea-4dc3-8112-7a76a4fb857d - Rating: 10\n",
      "Movie ID: 3bfb4f78-1533-4279-8d2b-caa8cec6ca56 - Rating: 10\n",
      "Movie ID: fc287bb1-52c5-41f7-92a7-284c122bf326 - Rating: 10\n",
      "Movie ID: bfb39ff8-eb2b-4980-ad0f-d0786a5ac9c5 - Rating: 10\n",
      "Movie ID: 5c63c3ee-a2f2-4b3c-80f1-6d20fe073a2b - Rating: 10\n",
      "Movie ID: 63c3ce24-d05a-472d-86d9-1a2876d77c52 - Rating: 10\n",
      "Movie ID: 25c7090f-596c-4b69-8c26-04f62e324a19 - Rating: 10\n",
      "Movie ID: 723d5a7a-3eef-471f-ad85-e961a81a2580 - Rating: 10\n",
      "Movie ID: 30347eee-f878-4985-9faa-3774733cd685 - Rating: 10\n",
      "Movie ID: be802654-b101-4875-bc93-eb0d93f3ea09 - Rating: 10\n",
      "Movie ID: 01cc0e1c-2ca8-4e72-89a5-177bccfbac0b - Rating: 10\n",
      "Movie ID: 4de96e40-2faa-456c-8a7c-a2f55004b1b5 - Rating: 10\n",
      "Movie ID: 76989bc2-2a3d-4318-92e5-931bea5049c4 - Rating: 10\n",
      "Movie ID: dbe71c73-a7ee-40bc-92ef-a6ca3b5e7adb - Rating: 10\n",
      "Movie ID: b5f11e6d-8448-4c23-a47e-89584078a013 - Rating: 10\n",
      "Movie ID: 2978988f-8401-4363-aa5c-e115391f115a - Rating: 10\n",
      "Movie ID: 7aeba696-54a6-44e8-b4e7-56f4339d2e08 - Rating: 10\n",
      "Movie ID: ef10172e-1556-46a4-b543-a24bab5a588b - Rating: 10\n",
      "Movie ID: ce46013a-8a02-4f10-9345-ec765deb636b - Rating: 10\n",
      "Movie ID: b9d2f914-2880-47d8-97e8-ad9c71b3c4b8 - Rating: 10\n",
      "Movie ID: c43be93e-13de-47e6-981c-2b56c4fb7179 - Rating: 10\n",
      "Movie ID: f3f8af31-0606-41b9-81be-3135737275e4 - Rating: 10\n",
      "Movie ID: 1e270d66-162f-4c9f-88e7-e468bb2e86e0 - Rating: 10\n",
      "Movie ID: 9990df73-ca48-47c8-999c-1d89921048a5 - Rating: 9\n",
      "Movie ID: d23077c5-3b9d-4911-9a06-1103f94e760d - Rating: 9\n",
      "Movie ID: b295d758-3c72-4edc-b558-28b4704ddce0 - Rating: 9\n",
      "Movie ID: da1628a6-59fc-4878-a6ea-03373cad86a6 - Rating: 9\n",
      "Movie ID: e4f60286-712b-42f9-9642-3e49f6b87ed0 - Rating: 9\n",
      "Movie ID: 7531a8f1-9aa8-4d33-97e2-9b8b021cd897 - Rating: 9\n",
      "Movie ID: 129e031f-fe9b-4613-a019-dfd7b0a15b55 - Rating: 9\n",
      "Movie ID: c941c5c7-52eb-4b85-a4e2-4c1996b6781b - Rating: 9\n",
      "Movie ID: ea106a2f-4128-4a24-b5ed-188376a1d14a - Rating: 9\n",
      "Movie ID: 70eeebbc-5970-4e98-ba59-5118cea46e47 - Rating: 9\n",
      "Movie ID: 6c62826c-30d9-4454-ab4a-c1656e65c881 - Rating: 9\n",
      "Movie ID: 94fb5d15-2d0f-4065-91f4-68f76f61402e - Rating: 9\n",
      "Movie ID: 835516b5-7c4f-44f4-bc9e-656c6b11b004 - Rating: 9\n",
      "Movie ID: ab6ee34b-aff0-41e8-be2b-f71b04989cb6 - Rating: 9\n",
      "Movie ID: 536afe00-a566-4ea4-bf4e-54a6e6cd45e2 - Rating: 9\n",
      "Movie ID: 70bb9201-f3af-45bd-a00c-68735181bf24 - Rating: 9\n",
      "Movie ID: ef740b28-481c-489d-a1e1-1c128994cac0 - Rating: 9\n",
      "Movie ID: 37a74d63-d5ac-4957-b3af-c067f6cdf236 - Rating: 9\n",
      "Movie ID: 807012a3-489f-4124-8263-a2e21593aa45 - Rating: 9\n",
      "Movie ID: 9dca68a7-4e65-41a5-88ae-906a41aa0a62 - Rating: 9\n",
      "Movie ID: 22f9bdda-327f-4ef4-8904-825c4286bb16 - Rating: 8\n",
      "Movie ID: e8cd3740-6d34-494c-8b8e-6a31539343ec - Rating: 8\n",
      "Movie ID: 6b7b409d-97e2-4d01-badb-0cf425e1ee24 - Rating: 8\n",
      "Movie ID: 2678acd9-9941-4c90-bdfa-53ce762d58f0 - Rating: 8\n",
      "Movie ID: 6d979edb-b23e-4e36-a323-33d58d1feda8 - Rating: 8\n",
      "Movie ID: 4c28b510-443e-4517-a8d2-dc778c04ee75 - Rating: 8\n",
      "Movie ID: 3308bb2c-6bc2-4937-b419-548b95393ae4 - Rating: 8\n",
      "Movie ID: c462da85-314d-490a-943b-d5ccd30cb3d2 - Rating: 8\n",
      "Movie ID: 2bd85844-206f-464e-815b-91db9e68a56d - Rating: 8\n",
      "Movie ID: 1a1fb5df-0842-4b13-818c-188e71f52d40 - Rating: 8\n",
      "Movie ID: 3cf9d4dd-b023-47e4-83b1-7336a5dff535 - Rating: 8\n",
      "Movie ID: e98c6413-e7db-4c95-8414-ea3843284fb4 - Rating: 8\n",
      "Movie ID: fcee8c41-867c-4278-a893-4a1783afe5f5 - Rating: 7\n",
      "Movie ID: 635f53c8-7775-4a27-a405-d260b404e395 - Rating: 7\n",
      "Movie ID: 31657d1d-c8a6-4dc1-955d-87e01ce0ff67 - Rating: 7\n",
      "Movie ID: 82a81ce2-e468-4fd1-8d55-1d5040628bd1 - Rating: 7\n",
      "Movie ID: 0500abd5-1d0d-4640-9670-a0dd93d1bef8 - Rating: 7\n",
      "Movie ID: dcf02cbc-81b3-411c-ac4a-e6854700adf0 - Rating: 7\n",
      "Movie ID: 1690d2d0-651a-4738-923c-e18e19d571e4 - Rating: 7\n",
      "Movie ID: 5fc85570-3aec-4355-9d32-0d2d0f87f5b6 - Rating: 7\n",
      "Movie ID: eb4d2eca-1667-41a8-a512-3e13d5c772d7 - Rating: 7\n",
      "Movie ID: 1f7806d2-bb38-4312-a8d0-c248b58eba97 - Rating: 7\n",
      "Movie ID: 6a1efb2f-106c-4514-b381-1737f1a9af28 - Rating: 7\n",
      "Movie ID: d6c381d8-7db9-4dc7-b403-7db777928a0b - Rating: 7\n",
      "Movie ID: bd0d7829-ab73-4c0d-b6b3-cc95da48af17 - Rating: 7\n",
      "Movie ID: ee48a539-68fb-408b-8394-7fb6262041ac - Rating: 7\n",
      "Movie ID: 26e8edf0-7127-4c78-858c-01c40e376a12 - Rating: 7\n",
      "Movie ID: 2d0521ea-d659-4c13-889c-34aa0353ffaa - Rating: 7\n",
      "Movie ID: cd91c4f5-9712-45fe-81e1-fc0e75c43594 - Rating: 6\n",
      "Movie ID: bf716067-6449-4c46-80de-567a4fa40325 - Rating: 6\n",
      "Movie ID: e93a1b47-f8c7-4cd0-a207-f44a9aa75165 - Rating: 6\n",
      "Movie ID: 6597b1f8-66e4-429c-bfcc-a5b65ba18195 - Rating: 6\n",
      "Movie ID: bcfe167c-1000-4f8f-b9e3-0971e8dbfd48 - Rating: 6\n",
      "Movie ID: f716820a-506f-427d-bc2d-4c1013f7ac98 - Rating: 6\n",
      "Movie ID: b6764ac6-c4c6-459c-a4e4-c691392fff1c - Rating: 6\n",
      "Movie ID: 439dbeb1-02e6-4ca0-b1e8-253107e8f9b5 - Rating: 6\n",
      "Movie ID: 7b5f9cc2-6645-4411-b59c-f101cf667a98 - Rating: 6\n",
      "Movie ID: f0342f53-8f93-495f-b79f-2d906123d4e6 - Rating: 6\n",
      "Movie ID: 59af6b4a-cc1a-4b9f-846a-0f16dd778f8c - Rating: 6\n",
      "CPU times: user 1.39 ms, sys: 981 µs, total: 2.37 ms\n",
      "Wall time: 24.2 ms\n"
     ]
    }
   ],
   "execution_count": 14
  }
 ],
 "metadata": {
  "kernelspec": {
   "display_name": "Python 3",
   "language": "python",
   "name": "python3"
  },
  "language_info": {
   "codemirror_mode": {
    "name": "ipython",
    "version": 2
   },
   "file_extension": ".py",
   "mimetype": "text/x-python",
   "name": "python",
   "nbconvert_exporter": "python",
   "pygments_lexer": "ipython2",
   "version": "2.7.6"
  }
 },
 "nbformat": 4,
 "nbformat_minor": 5
}
